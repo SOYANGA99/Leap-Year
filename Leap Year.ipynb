{
 "cells": [
  {
   "cell_type": "code",
   "execution_count": 19,
   "id": "77c7d54a",
   "metadata": {},
   "outputs": [
    {
     "name": "stdout",
     "output_type": "stream",
     "text": [
      "Input An Year:-2000\n",
      "Yes it is a leap year\n"
     ]
    }
   ],
   "source": [
    "yr= int(input(\"Input An Year:-\"))\n",
    "if ((yr%4==0) and (yr!=0)) or (yr%400==0):\n",
    "    print(\"Yes it is a leap year\")\n",
    "else:\n",
    "    print(\"No it is not a leap year\")"
   ]
  },
  {
   "cell_type": "code",
   "execution_count": 21,
   "id": "bd970fb4",
   "metadata": {},
   "outputs": [
    {
     "name": "stdout",
     "output_type": "stream",
     "text": [
      "Enter an Year:-2003\n",
      "2003 Is Not A Leap Year\n"
     ]
    }
   ],
   "source": [
    "yr= int(input(\"Enter an Year:-\"))\n",
    "if((yr%4==0) and (yr!=0)) or (yr%400==0):\n",
    "    c=yr\n",
    "    print(c, \"Is A Leap Year\")\n",
    "else:\n",
    "    d=yr\n",
    "    print(d, \"Is Not A Leap Year\")\n"
   ]
  },
  {
   "cell_type": "code",
   "execution_count": null,
   "id": "3abe6aed",
   "metadata": {},
   "outputs": [],
   "source": []
  },
  {
   "cell_type": "code",
   "execution_count": null,
   "id": "aee6ada2",
   "metadata": {},
   "outputs": [],
   "source": []
  }
 ],
 "metadata": {
  "kernelspec": {
   "display_name": "Python 3 (ipykernel)",
   "language": "python",
   "name": "python3"
  },
  "language_info": {
   "codemirror_mode": {
    "name": "ipython",
    "version": 3
   },
   "file_extension": ".py",
   "mimetype": "text/x-python",
   "name": "python",
   "nbconvert_exporter": "python",
   "pygments_lexer": "ipython3",
   "version": "3.9.7"
  }
 },
 "nbformat": 4,
 "nbformat_minor": 5
}
